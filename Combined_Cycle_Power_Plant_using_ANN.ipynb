{
  "nbformat": 4,
  "nbformat_minor": 0,
  "metadata": {
    "colab": {
      "name": "Untitled24.ipynb",
      "provenance": [],
      "toc_visible": true,
      "authorship_tag": "ABX9TyPFi8jFyuoI2rpt4P7raxlv",
      "include_colab_link": true
    },
    "kernelspec": {
      "name": "python3",
      "display_name": "Python 3"
    }
  },
  "cells": [
    {
      "cell_type": "markdown",
      "metadata": {
        "id": "view-in-github",
        "colab_type": "text"
      },
      "source": [
        "<a href=\"https://colab.research.google.com/github/akash-ranjan8/MACHINE_LEARNING_MODELS_IN_PYTHON/blob/master/Combined_Cycle_Power_Plant_using_ANN.ipynb\" target=\"_parent\"><img src=\"https://colab.research.google.com/assets/colab-badge.svg\" alt=\"Open In Colab\"/></a>"
      ]
    },
    {
      "cell_type": "markdown",
      "metadata": {
        "id": "s9JQp9xdZv7a"
      },
      "source": [
        "#Artifical Neural Network"
      ]
    },
    {
      "cell_type": "markdown",
      "metadata": {
        "id": "dCwFfB-0clh0"
      },
      "source": [
        "#Combined Cycle Power Plant Dataset"
      ]
    },
    {
      "cell_type": "markdown",
      "metadata": {
        "id": "c1-Bn8U3aFtF"
      },
      "source": [
        "#Importing the libraries"
      ]
    },
    {
      "cell_type": "code",
      "metadata": {
        "id": "st938uUAaJ94"
      },
      "source": [
        "import numpy as np\n",
        "import pandas as pd\n",
        "import tensorflow as tf"
      ],
      "execution_count": 12,
      "outputs": []
    },
    {
      "cell_type": "markdown",
      "metadata": {
        "id": "Np9YjGj8abpq"
      },
      "source": [
        "#Importing the dataset"
      ]
    },
    {
      "cell_type": "code",
      "metadata": {
        "id": "ldutmw-SahnQ",
        "outputId": "44f98833-b131-4e10-a2ed-3104fa04b226",
        "colab": {
          "base_uri": "https://localhost:8080/",
          "height": 156
        }
      },
      "source": [
        "dataset = pd.read_excel('Folds5x2_pp.xlsx')\n",
        "X = dataset.iloc[:,:-1].values\n",
        "Y = dataset.iloc[:,-1].values\n",
        "print(X)\n",
        "print(Y)"
      ],
      "execution_count": 13,
      "outputs": [
        {
          "output_type": "stream",
          "text": [
            "[[  14.96   41.76 1024.07   73.17]\n",
            " [  25.18   62.96 1020.04   59.08]\n",
            " [   5.11   39.4  1012.16   92.14]\n",
            " ...\n",
            " [  31.32   74.33 1012.92   36.48]\n",
            " [  24.48   69.45 1013.86   62.39]\n",
            " [  21.6    62.52 1017.23   67.87]]\n",
            "[463.26 444.37 488.56 ... 429.57 435.74 453.28]\n"
          ],
          "name": "stdout"
        }
      ]
    },
    {
      "cell_type": "markdown",
      "metadata": {
        "id": "iXM_vUHDbCY2"
      },
      "source": [
        "#Splitting the dataset into the training set and the test set"
      ]
    },
    {
      "cell_type": "code",
      "metadata": {
        "id": "nBPbHF5vbKWJ",
        "outputId": "d766d8e1-effd-420b-bfdd-6a5cd27b84f9",
        "colab": {
          "base_uri": "https://localhost:8080/",
          "height": 295
        }
      },
      "source": [
        "from sklearn.model_selection import train_test_split\n",
        "X_train, X_test, Y_train, Y_test = train_test_split(X, Y, test_size = 0.2, random_state = 0)\n",
        "print(X_train)\n",
        "print(X_test)\n",
        "print(Y_train)\n",
        "print(Y_test)"
      ],
      "execution_count": 14,
      "outputs": [
        {
          "output_type": "stream",
          "text": [
            "[[  11.22   43.13 1017.24   80.9 ]\n",
            " [  13.67   54.3  1015.92   75.42]\n",
            " [  32.84   77.95 1014.68   45.8 ]\n",
            " ...\n",
            " [  16.81   38.52 1018.26   75.21]\n",
            " [  12.8    41.16 1022.43   86.19]\n",
            " [  32.32   67.9  1006.08   37.93]]\n",
            "[[  28.66   77.95 1009.56   69.07]\n",
            " [  17.48   49.39 1021.51   84.53]\n",
            " [  14.86   43.14 1019.21   99.14]\n",
            " ...\n",
            " [  12.24   44.92 1023.74   88.21]\n",
            " [  27.28   47.93 1003.46   59.22]\n",
            " [  17.28   39.99 1007.09   74.25]]\n",
            "[473.93 467.87 431.97 ... 459.01 462.72 428.12]\n",
            "[431.23 460.01 461.14 ... 473.26 438.   463.28]\n"
          ],
          "name": "stdout"
        }
      ]
    },
    {
      "cell_type": "markdown",
      "metadata": {
        "id": "gDu9FaeYbY2m"
      },
      "source": [
        "#Building the ANN"
      ]
    },
    {
      "cell_type": "markdown",
      "metadata": {
        "id": "uWmgd6aObbAq"
      },
      "source": [
        "Initializing the ANN"
      ]
    },
    {
      "cell_type": "code",
      "metadata": {
        "id": "v1S37MpqbdjR"
      },
      "source": [
        "ann = tf.keras.models.Sequential()"
      ],
      "execution_count": 15,
      "outputs": []
    },
    {
      "cell_type": "markdown",
      "metadata": {
        "id": "mVsn_M08bjAW"
      },
      "source": [
        "Adding the input layer and the first hidden layer"
      ]
    },
    {
      "cell_type": "code",
      "metadata": {
        "id": "_JUHg0YRbqNS"
      },
      "source": [
        "ann.add(tf.keras.layers.Dense(units=6, activation='relu'))"
      ],
      "execution_count": 16,
      "outputs": []
    },
    {
      "cell_type": "markdown",
      "metadata": {
        "id": "TMRzqhBJbv7d"
      },
      "source": [
        "Adding the second hidden layer"
      ]
    },
    {
      "cell_type": "code",
      "metadata": {
        "id": "_Kcfa7flbzC5"
      },
      "source": [
        "ann.add(tf.keras.layers.Dense(units=6, activation='relu'))"
      ],
      "execution_count": 17,
      "outputs": []
    },
    {
      "cell_type": "markdown",
      "metadata": {
        "id": "Wtu_oXQhb0an"
      },
      "source": [
        "Adding the Output layer"
      ]
    },
    {
      "cell_type": "code",
      "metadata": {
        "id": "S8JQgY1cb23E"
      },
      "source": [
        "ann.add(tf.keras.layers.Dense(units=1))"
      ],
      "execution_count": 18,
      "outputs": []
    },
    {
      "cell_type": "markdown",
      "metadata": {
        "id": "z6tl9aYVcAXj"
      },
      "source": [
        "#Training the ANN"
      ]
    },
    {
      "cell_type": "markdown",
      "metadata": {
        "id": "svRXrO-ycDxi"
      },
      "source": [
        "Compiling the ANN"
      ]
    },
    {
      "cell_type": "code",
      "metadata": {
        "id": "ROPegdLycHzS"
      },
      "source": [
        "ann.compile(optimizer = 'adam', loss = 'mean_squared_error')"
      ],
      "execution_count": 19,
      "outputs": []
    },
    {
      "cell_type": "markdown",
      "metadata": {
        "id": "M1lEch8RcjS9"
      },
      "source": [
        "Training the ANN on the training dataset"
      ]
    },
    {
      "cell_type": "code",
      "metadata": {
        "id": "EPnqZJfzc64G",
        "outputId": "5dc0a06c-2212-4a5a-f52c-863c49b489e2",
        "colab": {
          "base_uri": "https://localhost:8080/",
          "height": 1000
        }
      },
      "source": [
        "ann.fit(X_train, Y_train, batch_size = 32, epochs = 100)"
      ],
      "execution_count": 20,
      "outputs": [
        {
          "output_type": "stream",
          "text": [
            "Epoch 1/100\n",
            "240/240 [==============================] - 0s 874us/step - loss: 16718.5684\n",
            "Epoch 2/100\n",
            "240/240 [==============================] - 0s 829us/step - loss: 217.4365\n",
            "Epoch 3/100\n",
            "240/240 [==============================] - 0s 860us/step - loss: 212.2060\n",
            "Epoch 4/100\n",
            "240/240 [==============================] - 0s 817us/step - loss: 205.9631\n",
            "Epoch 5/100\n",
            "240/240 [==============================] - 0s 865us/step - loss: 198.2993\n",
            "Epoch 6/100\n",
            "240/240 [==============================] - 0s 903us/step - loss: 189.4965\n",
            "Epoch 7/100\n",
            "240/240 [==============================] - 0s 876us/step - loss: 180.0124\n",
            "Epoch 8/100\n",
            "240/240 [==============================] - 0s 867us/step - loss: 169.7489\n",
            "Epoch 9/100\n",
            "240/240 [==============================] - 0s 824us/step - loss: 158.9460\n",
            "Epoch 10/100\n",
            "240/240 [==============================] - 0s 899us/step - loss: 147.5976\n",
            "Epoch 11/100\n",
            "240/240 [==============================] - 0s 926us/step - loss: 135.9520\n",
            "Epoch 12/100\n",
            "240/240 [==============================] - 0s 926us/step - loss: 124.4550\n",
            "Epoch 13/100\n",
            "240/240 [==============================] - 0s 832us/step - loss: 112.7122\n",
            "Epoch 14/100\n",
            "240/240 [==============================] - 0s 838us/step - loss: 101.6764\n",
            "Epoch 15/100\n",
            "240/240 [==============================] - 0s 844us/step - loss: 91.4022\n",
            "Epoch 16/100\n",
            "240/240 [==============================] - 0s 839us/step - loss: 81.5889\n",
            "Epoch 17/100\n",
            "240/240 [==============================] - 0s 818us/step - loss: 72.9995\n",
            "Epoch 18/100\n",
            "240/240 [==============================] - 0s 804us/step - loss: 65.2921\n",
            "Epoch 19/100\n",
            "240/240 [==============================] - 0s 860us/step - loss: 59.0634\n",
            "Epoch 20/100\n",
            "240/240 [==============================] - 0s 897us/step - loss: 53.4335\n",
            "Epoch 21/100\n",
            "240/240 [==============================] - 0s 815us/step - loss: 49.0837\n",
            "Epoch 22/100\n",
            "240/240 [==============================] - 0s 809us/step - loss: 45.2750\n",
            "Epoch 23/100\n",
            "240/240 [==============================] - 0s 846us/step - loss: 42.1018\n",
            "Epoch 24/100\n",
            "240/240 [==============================] - 0s 946us/step - loss: 39.4806\n",
            "Epoch 25/100\n",
            "240/240 [==============================] - 0s 880us/step - loss: 37.0948\n",
            "Epoch 26/100\n",
            "240/240 [==============================] - 0s 813us/step - loss: 35.7252\n",
            "Epoch 27/100\n",
            "240/240 [==============================] - 0s 883us/step - loss: 34.1551\n",
            "Epoch 28/100\n",
            "240/240 [==============================] - 0s 808us/step - loss: 32.8983\n",
            "Epoch 29/100\n",
            "240/240 [==============================] - 0s 876us/step - loss: 32.1360\n",
            "Epoch 30/100\n",
            "240/240 [==============================] - 0s 840us/step - loss: 32.2528\n",
            "Epoch 31/100\n",
            "240/240 [==============================] - 0s 800us/step - loss: 30.6268\n",
            "Epoch 32/100\n",
            "240/240 [==============================] - 0s 832us/step - loss: 30.2819\n",
            "Epoch 33/100\n",
            "240/240 [==============================] - 0s 825us/step - loss: 29.8585\n",
            "Epoch 34/100\n",
            "240/240 [==============================] - 0s 873us/step - loss: 29.5956\n",
            "Epoch 35/100\n",
            "240/240 [==============================] - 0s 878us/step - loss: 29.0275\n",
            "Epoch 36/100\n",
            "240/240 [==============================] - 0s 805us/step - loss: 29.0128\n",
            "Epoch 37/100\n",
            "240/240 [==============================] - 0s 815us/step - loss: 29.0236\n",
            "Epoch 38/100\n",
            "240/240 [==============================] - 0s 800us/step - loss: 29.1347\n",
            "Epoch 39/100\n",
            "240/240 [==============================] - 0s 853us/step - loss: 28.7362\n",
            "Epoch 40/100\n",
            "240/240 [==============================] - 0s 877us/step - loss: 28.0811\n",
            "Epoch 41/100\n",
            "240/240 [==============================] - 0s 815us/step - loss: 28.2321\n",
            "Epoch 42/100\n",
            "240/240 [==============================] - 0s 879us/step - loss: 28.0179\n",
            "Epoch 43/100\n",
            "240/240 [==============================] - 0s 834us/step - loss: 28.1686\n",
            "Epoch 44/100\n",
            "240/240 [==============================] - 0s 886us/step - loss: 27.5003\n",
            "Epoch 45/100\n",
            "240/240 [==============================] - 0s 817us/step - loss: 27.5707\n",
            "Epoch 46/100\n",
            "240/240 [==============================] - 0s 830us/step - loss: 27.8383\n",
            "Epoch 47/100\n",
            "240/240 [==============================] - 0s 887us/step - loss: 27.6069\n",
            "Epoch 48/100\n",
            "240/240 [==============================] - 0s 848us/step - loss: 27.6716\n",
            "Epoch 49/100\n",
            "240/240 [==============================] - 0s 872us/step - loss: 27.2764\n",
            "Epoch 50/100\n",
            "240/240 [==============================] - 0s 899us/step - loss: 27.4303\n",
            "Epoch 51/100\n",
            "240/240 [==============================] - 0s 897us/step - loss: 27.2209\n",
            "Epoch 52/100\n",
            "240/240 [==============================] - 0s 822us/step - loss: 26.8878\n",
            "Epoch 53/100\n",
            "240/240 [==============================] - 0s 881us/step - loss: 27.1228\n",
            "Epoch 54/100\n",
            "240/240 [==============================] - 0s 879us/step - loss: 26.8370\n",
            "Epoch 55/100\n",
            "240/240 [==============================] - 0s 804us/step - loss: 27.0442\n",
            "Epoch 56/100\n",
            "240/240 [==============================] - 0s 824us/step - loss: 27.0374\n",
            "Epoch 57/100\n",
            "240/240 [==============================] - 0s 834us/step - loss: 26.7403\n",
            "Epoch 58/100\n",
            "240/240 [==============================] - 0s 890us/step - loss: 26.6980\n",
            "Epoch 59/100\n",
            "240/240 [==============================] - 0s 907us/step - loss: 26.8293\n",
            "Epoch 60/100\n",
            "240/240 [==============================] - 0s 926us/step - loss: 26.3594\n",
            "Epoch 61/100\n",
            "240/240 [==============================] - 0s 943us/step - loss: 26.6629\n",
            "Epoch 62/100\n",
            "240/240 [==============================] - 0s 961us/step - loss: 26.8740\n",
            "Epoch 63/100\n",
            "240/240 [==============================] - 0s 929us/step - loss: 26.5317\n",
            "Epoch 64/100\n",
            "240/240 [==============================] - 0s 869us/step - loss: 26.5659\n",
            "Epoch 65/100\n",
            "240/240 [==============================] - 0s 812us/step - loss: 26.7750\n",
            "Epoch 66/100\n",
            "240/240 [==============================] - 0s 844us/step - loss: 27.0240\n",
            "Epoch 67/100\n",
            "240/240 [==============================] - 0s 838us/step - loss: 26.3412\n",
            "Epoch 68/100\n",
            "240/240 [==============================] - 0s 871us/step - loss: 26.9047\n",
            "Epoch 69/100\n",
            "240/240 [==============================] - 0s 820us/step - loss: 26.2953\n",
            "Epoch 70/100\n",
            "240/240 [==============================] - 0s 869us/step - loss: 26.4567\n",
            "Epoch 71/100\n",
            "240/240 [==============================] - 0s 806us/step - loss: 26.8175\n",
            "Epoch 72/100\n",
            "240/240 [==============================] - 0s 886us/step - loss: 26.3604\n",
            "Epoch 73/100\n",
            "240/240 [==============================] - 0s 885us/step - loss: 26.5884\n",
            "Epoch 74/100\n",
            "240/240 [==============================] - 0s 876us/step - loss: 26.5279\n",
            "Epoch 75/100\n",
            "240/240 [==============================] - 0s 828us/step - loss: 26.4684\n",
            "Epoch 76/100\n",
            "240/240 [==============================] - 0s 856us/step - loss: 27.0599\n",
            "Epoch 77/100\n",
            "240/240 [==============================] - 0s 894us/step - loss: 26.4467\n",
            "Epoch 78/100\n",
            "240/240 [==============================] - 0s 881us/step - loss: 26.8355\n",
            "Epoch 79/100\n",
            "240/240 [==============================] - 0s 819us/step - loss: 26.9645\n",
            "Epoch 80/100\n",
            "240/240 [==============================] - 0s 815us/step - loss: 26.4926\n",
            "Epoch 81/100\n",
            "240/240 [==============================] - 0s 967us/step - loss: 26.2486\n",
            "Epoch 82/100\n",
            "240/240 [==============================] - 0s 972us/step - loss: 27.1079\n",
            "Epoch 83/100\n",
            "240/240 [==============================] - 0s 884us/step - loss: 26.5736\n",
            "Epoch 84/100\n",
            "240/240 [==============================] - 0s 850us/step - loss: 26.4121\n",
            "Epoch 85/100\n",
            "240/240 [==============================] - 0s 834us/step - loss: 26.7373\n",
            "Epoch 86/100\n",
            "240/240 [==============================] - 0s 913us/step - loss: 26.3956\n",
            "Epoch 87/100\n",
            "240/240 [==============================] - 0s 905us/step - loss: 26.6839\n",
            "Epoch 88/100\n",
            "240/240 [==============================] - 0s 875us/step - loss: 26.6825\n",
            "Epoch 89/100\n",
            "240/240 [==============================] - 0s 825us/step - loss: 26.6800\n",
            "Epoch 90/100\n",
            "240/240 [==============================] - 0s 825us/step - loss: 26.4075\n",
            "Epoch 91/100\n",
            "240/240 [==============================] - 0s 888us/step - loss: 26.7618\n",
            "Epoch 92/100\n",
            "240/240 [==============================] - 0s 919us/step - loss: 26.8555\n",
            "Epoch 93/100\n",
            "240/240 [==============================] - 0s 832us/step - loss: 26.4216\n",
            "Epoch 94/100\n",
            "240/240 [==============================] - 0s 820us/step - loss: 26.3881\n",
            "Epoch 95/100\n",
            "240/240 [==============================] - 0s 844us/step - loss: 26.7575\n",
            "Epoch 96/100\n",
            "240/240 [==============================] - 0s 858us/step - loss: 26.2557\n",
            "Epoch 97/100\n",
            "240/240 [==============================] - 0s 932us/step - loss: 26.6060\n",
            "Epoch 98/100\n",
            "240/240 [==============================] - 0s 821us/step - loss: 26.8294\n",
            "Epoch 99/100\n",
            "240/240 [==============================] - 0s 820us/step - loss: 26.2601\n",
            "Epoch 100/100\n",
            "240/240 [==============================] - 0s 897us/step - loss: 26.4568\n"
          ],
          "name": "stdout"
        },
        {
          "output_type": "execute_result",
          "data": {
            "text/plain": [
              "<tensorflow.python.keras.callbacks.History at 0x7fd930d59668>"
            ]
          },
          "metadata": {
            "tags": []
          },
          "execution_count": 20
        }
      ]
    },
    {
      "cell_type": "markdown",
      "metadata": {
        "id": "_E-DD2n1dIyR"
      },
      "source": [
        "#Predicting the test set results"
      ]
    },
    {
      "cell_type": "code",
      "metadata": {
        "id": "xp7Ux4wFdMhD",
        "outputId": "28462463-e7e1-4f0d-e4e1-1c41709caeb5",
        "colab": {
          "base_uri": "https://localhost:8080/",
          "height": 139
        }
      },
      "source": [
        "Y_pred = ann.predict(X_test)\n",
        "np.set_printoptions(precision=2)\n",
        "print(np.concatenate((Y_pred.reshape(len(Y_pred),1), Y_test.reshape(len(Y_test),1)),1))"
      ],
      "execution_count": 21,
      "outputs": [
        {
          "output_type": "stream",
          "text": [
            "[[430.36 431.23]\n",
            " [461.48 460.01]\n",
            " [465.02 461.14]\n",
            " ...\n",
            " [472.17 473.26]\n",
            " [439.16 438.  ]\n",
            " [458.29 463.28]]\n"
          ],
          "name": "stdout"
        }
      ]
    }
  ]
}