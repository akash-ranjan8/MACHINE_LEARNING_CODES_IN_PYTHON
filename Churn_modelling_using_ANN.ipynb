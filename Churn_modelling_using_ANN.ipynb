{
  "nbformat": 4,
  "nbformat_minor": 0,
  "metadata": {
    "colab": {
      "name": "Untitled23.ipynb",
      "provenance": [],
      "toc_visible": true,
      "authorship_tag": "ABX9TyPBz1BmhjE3QHSxwCJxoViZ",
      "include_colab_link": true
    },
    "kernelspec": {
      "name": "python3",
      "display_name": "Python 3"
    }
  },
  "cells": [
    {
      "cell_type": "markdown",
      "metadata": {
        "id": "view-in-github",
        "colab_type": "text"
      },
      "source": [
        "<a href=\"https://colab.research.google.com/github/akash-ranjan8/MACHINE_LEARNING_MODELS_IN_PYTHON/blob/master/Churn_modelling_using_ANN.ipynb\" target=\"_parent\"><img src=\"https://colab.research.google.com/assets/colab-badge.svg\" alt=\"Open In Colab\"/></a>"
      ]
    },
    {
      "cell_type": "markdown",
      "metadata": {
        "id": "YIebOobFeMjm"
      },
      "source": [
        "#ARTIFICAL NEURAL NETWORK"
      ]
    },
    {
      "cell_type": "markdown",
      "metadata": {
        "id": "rY0oYI5ceQmd"
      },
      "source": [
        "#Importing the libraries"
      ]
    },
    {
      "cell_type": "code",
      "metadata": {
        "id": "Pphfpq5OeUO-"
      },
      "source": [
        " import numpy as np\n",
        " import pandas as pd\n",
        " import tensorflow as tf"
      ],
      "execution_count": 20,
      "outputs": []
    },
    {
      "cell_type": "code",
      "metadata": {
        "id": "GspqvbKJ1Tds",
        "outputId": "800d9152-5c39-4609-b17f-8047e3b9a00b",
        "colab": {
          "base_uri": "https://localhost:8080/",
          "height": 35
        }
      },
      "source": [
        "tf.__version__"
      ],
      "execution_count": 21,
      "outputs": [
        {
          "output_type": "execute_result",
          "data": {
            "application/vnd.google.colaboratory.intrinsic+json": {
              "type": "string"
            },
            "text/plain": [
              "'2.3.0'"
            ]
          },
          "metadata": {
            "tags": []
          },
          "execution_count": 21
        }
      ]
    },
    {
      "cell_type": "markdown",
      "metadata": {
        "id": "jcfYeRgW3bCz"
      },
      "source": [
        "#Importing the dataset"
      ]
    },
    {
      "cell_type": "code",
      "metadata": {
        "id": "Q_XhVc9q3drQ",
        "outputId": "42258f1c-b393-4e5c-98e1-136a8ae13ff1",
        "colab": {
          "base_uri": "https://localhost:8080/",
          "height": 156
        }
      },
      "source": [
        "dataset = pd.read_csv('Churn_Modelling.csv')\n",
        "X = dataset.iloc[:,3:-1].values\n",
        "Y = dataset.iloc[:,-1].values\n",
        "print(X)\n",
        "print(Y)"
      ],
      "execution_count": 22,
      "outputs": [
        {
          "output_type": "stream",
          "text": [
            "[[619 'France' 'Female' ... 1 1 101348.88]\n",
            " [608 'Spain' 'Female' ... 0 1 112542.58]\n",
            " [502 'France' 'Female' ... 1 0 113931.57]\n",
            " ...\n",
            " [709 'France' 'Female' ... 0 1 42085.58]\n",
            " [772 'Germany' 'Male' ... 1 0 92888.52]\n",
            " [792 'France' 'Female' ... 1 0 38190.78]]\n",
            "[1 0 1 ... 1 1 0]\n"
          ],
          "name": "stdout"
        }
      ]
    },
    {
      "cell_type": "markdown",
      "metadata": {
        "id": "8GOTRxUP34_K"
      },
      "source": [
        "#Encoding of the Categorical data"
      ]
    },
    {
      "cell_type": "markdown",
      "metadata": {
        "id": "oHQ6z8s74cmp"
      },
      "source": [
        "Label Encoding of the \"Gender\" Column"
      ]
    },
    {
      "cell_type": "code",
      "metadata": {
        "id": "T4fUfbY84ioD",
        "outputId": "e4e9c795-cc38-4ba6-92bc-32e988a16845",
        "colab": {
          "base_uri": "https://localhost:8080/",
          "height": 139
        }
      },
      "source": [
        "from sklearn.preprocessing import LabelEncoder\n",
        "le = LabelEncoder()\n",
        "X[:, 2] = le.fit_transform(X[:, 2])\n",
        "print(X)"
      ],
      "execution_count": 23,
      "outputs": [
        {
          "output_type": "stream",
          "text": [
            "[[619 'France' 0 ... 1 1 101348.88]\n",
            " [608 'Spain' 0 ... 0 1 112542.58]\n",
            " [502 'France' 0 ... 1 0 113931.57]\n",
            " ...\n",
            " [709 'France' 0 ... 0 1 42085.58]\n",
            " [772 'Germany' 1 ... 1 0 92888.52]\n",
            " [792 'France' 0 ... 1 0 38190.78]]\n"
          ],
          "name": "stdout"
        }
      ]
    },
    {
      "cell_type": "markdown",
      "metadata": {
        "id": "osIUURWT4tuM"
      },
      "source": [
        "One Hot Encoding of the \"Geography\" Column"
      ]
    },
    {
      "cell_type": "code",
      "metadata": {
        "id": "E0u9hoZf4zjW",
        "outputId": "eec46a7b-086f-4ab6-cebb-19646c5ff9d9",
        "colab": {
          "base_uri": "https://localhost:8080/",
          "height": 139
        }
      },
      "source": [
        "from sklearn.compose import ColumnTransformer\n",
        "from sklearn.preprocessing import OneHotEncoder\n",
        "ct = ColumnTransformer(transformers=[('encoder', OneHotEncoder(), [1])], remainder='passthrough')\n",
        "X = np.array(ct.fit_transform(X))\n",
        "print(X)"
      ],
      "execution_count": 24,
      "outputs": [
        {
          "output_type": "stream",
          "text": [
            "[[1.0 0.0 0.0 ... 1 1 101348.88]\n",
            " [0.0 0.0 1.0 ... 0 1 112542.58]\n",
            " [1.0 0.0 0.0 ... 1 0 113931.57]\n",
            " ...\n",
            " [1.0 0.0 0.0 ... 0 1 42085.58]\n",
            " [0.0 1.0 0.0 ... 1 0 92888.52]\n",
            " [1.0 0.0 0.0 ... 1 0 38190.78]]\n"
          ],
          "name": "stdout"
        }
      ]
    },
    {
      "cell_type": "markdown",
      "metadata": {
        "id": "nYhIO7tS6YVx"
      },
      "source": [
        "#Splitting the dataset into training set and the test set"
      ]
    },
    {
      "cell_type": "code",
      "metadata": {
        "id": "BQoOpxgO4N-p",
        "outputId": "f22c3239-c430-4a4f-cfce-aa52ed87672d",
        "colab": {
          "base_uri": "https://localhost:8080/",
          "height": 295
        }
      },
      "source": [
        "from sklearn.model_selection import train_test_split\n",
        "X_train, X_test, Y_train, Y_test = train_test_split(X, Y, test_size = 0.2, random_state = 0)\n",
        "print(X_train)\n",
        "print(X_test)\n",
        "print(Y_train)\n",
        "print(Y_test)"
      ],
      "execution_count": 25,
      "outputs": [
        {
          "output_type": "stream",
          "text": [
            "[[0.0 0.0 1.0 ... 1 0 163830.64]\n",
            " [0.0 1.0 0.0 ... 1 1 57098.0]\n",
            " [1.0 0.0 0.0 ... 1 0 185630.76]\n",
            " ...\n",
            " [1.0 0.0 0.0 ... 1 0 181429.87]\n",
            " [0.0 0.0 1.0 ... 1 1 148750.16]\n",
            " [0.0 1.0 0.0 ... 1 0 118855.26]]\n",
            "[[0.0 1.0 0.0 ... 1 1 192852.67]\n",
            " [1.0 0.0 0.0 ... 1 0 128702.1]\n",
            " [0.0 0.0 1.0 ... 1 1 75732.25]\n",
            " ...\n",
            " [0.0 0.0 1.0 ... 1 0 141533.19]\n",
            " [0.0 1.0 0.0 ... 1 1 11276.48]\n",
            " [0.0 1.0 0.0 ... 1 0 192950.6]]\n",
            "[0 0 0 ... 0 0 1]\n",
            "[0 1 0 ... 0 0 0]\n"
          ],
          "name": "stdout"
        }
      ]
    },
    {
      "cell_type": "markdown",
      "metadata": {
        "id": "3yhuNb556zUW"
      },
      "source": [
        "#Feature Scaling"
      ]
    },
    {
      "cell_type": "code",
      "metadata": {
        "id": "rYiHWoJo61vT",
        "outputId": "87e71103-aa82-4db0-f17c-e6611b2a7ce6",
        "colab": {
          "base_uri": "https://localhost:8080/",
          "height": 468
        }
      },
      "source": [
        "from sklearn.preprocessing import StandardScaler\n",
        "sc = StandardScaler()\n",
        "X_train = sc.fit_transform(X_train)\n",
        "X_test = sc.transform(X_test)\n",
        "print(X_train)\n",
        "print(X_test)"
      ],
      "execution_count": 26,
      "outputs": [
        {
          "output_type": "stream",
          "text": [
            "[[-1.01460667 -0.5698444   1.74309049 ...  0.64259497 -1.03227043\n",
            "   1.10643166]\n",
            " [-1.01460667  1.75486502 -0.57369368 ...  0.64259497  0.9687384\n",
            "  -0.74866447]\n",
            " [ 0.98560362 -0.5698444  -0.57369368 ...  0.64259497 -1.03227043\n",
            "   1.48533467]\n",
            " ...\n",
            " [ 0.98560362 -0.5698444  -0.57369368 ...  0.64259497 -1.03227043\n",
            "   1.41231994]\n",
            " [-1.01460667 -0.5698444   1.74309049 ...  0.64259497  0.9687384\n",
            "   0.84432121]\n",
            " [-1.01460667  1.75486502 -0.57369368 ...  0.64259497 -1.03227043\n",
            "   0.32472465]]\n",
            "[[-1.01460667  1.75486502 -0.57369368 ...  0.64259497  0.9687384\n",
            "   1.61085707]\n",
            " [ 0.98560362 -0.5698444  -0.57369368 ...  0.64259497 -1.03227043\n",
            "   0.49587037]\n",
            " [-1.01460667 -0.5698444   1.74309049 ...  0.64259497  0.9687384\n",
            "  -0.42478674]\n",
            " ...\n",
            " [-1.01460667 -0.5698444   1.74309049 ...  0.64259497 -1.03227043\n",
            "   0.71888467]\n",
            " [-1.01460667  1.75486502 -0.57369368 ...  0.64259497  0.9687384\n",
            "  -1.54507805]\n",
            " [-1.01460667  1.75486502 -0.57369368 ...  0.64259497 -1.03227043\n",
            "   1.61255917]]\n"
          ],
          "name": "stdout"
        }
      ]
    },
    {
      "cell_type": "markdown",
      "metadata": {
        "id": "55Qbo0iI7XVY"
      },
      "source": [
        "#Building the ANN"
      ]
    },
    {
      "cell_type": "markdown",
      "metadata": {
        "id": "OuXi0Vf3GBEB"
      },
      "source": [
        "Initializing the ANN"
      ]
    },
    {
      "cell_type": "code",
      "metadata": {
        "id": "95ljUD99AhPg"
      },
      "source": [
        "ann = tf.keras.models.Sequential()"
      ],
      "execution_count": 27,
      "outputs": []
    },
    {
      "cell_type": "markdown",
      "metadata": {
        "id": "9XidH277HT3p"
      },
      "source": [
        "Adding the first input layer and the first hidden layer"
      ]
    },
    {
      "cell_type": "code",
      "metadata": {
        "id": "3YSk3kGYHaUl"
      },
      "source": [
        "ann.add(tf.keras.layers.Dense(units=6, activation='relu'))"
      ],
      "execution_count": 28,
      "outputs": []
    },
    {
      "cell_type": "markdown",
      "metadata": {
        "id": "7vfO4-WdO0jB"
      },
      "source": [
        "Adding the second hidden layer"
      ]
    },
    {
      "cell_type": "code",
      "metadata": {
        "id": "R99mllIFO6SZ"
      },
      "source": [
        "ann.add(tf.keras.layers.Dense(units=6, activation='relu'))"
      ],
      "execution_count": 29,
      "outputs": []
    },
    {
      "cell_type": "markdown",
      "metadata": {
        "id": "sshJ7ocPPA-P"
      },
      "source": [
        "Adding the Output layer"
      ]
    },
    {
      "cell_type": "code",
      "metadata": {
        "id": "r5yN-TXcPEBB"
      },
      "source": [
        "ann.add(tf.keras.layers.Dense(units=1, activation='sigmoid'))"
      ],
      "execution_count": 30,
      "outputs": []
    },
    {
      "cell_type": "markdown",
      "metadata": {
        "id": "c12PqVObRVwN"
      },
      "source": [
        "#Training the ANN"
      ]
    },
    {
      "cell_type": "markdown",
      "metadata": {
        "id": "hD_eQ18mSDl9"
      },
      "source": [
        "Compiling the ANN"
      ]
    },
    {
      "cell_type": "code",
      "metadata": {
        "id": "3qcJcDVXSUZu"
      },
      "source": [
        "ann.compile(optimizer = 'adam', loss = 'binary_crossentropy', metrics = ['accuracy'])"
      ],
      "execution_count": 31,
      "outputs": []
    },
    {
      "cell_type": "markdown",
      "metadata": {
        "id": "IM-jbfQSTzSC"
      },
      "source": [
        "Training the ANN on the training set"
      ]
    },
    {
      "cell_type": "code",
      "metadata": {
        "id": "5Ezmfb50T5Bh",
        "outputId": "f200f7fb-a962-403f-eec1-71d724123fbd",
        "colab": {
          "base_uri": "https://localhost:8080/",
          "height": 1000
        }
      },
      "source": [
        "ann.fit(X_train, Y_train, batch_size = 32, epochs = 100)"
      ],
      "execution_count": 32,
      "outputs": [
        {
          "output_type": "stream",
          "text": [
            "Epoch 1/100\n",
            "250/250 [==============================] - 0s 942us/step - loss: 0.5724 - accuracy: 0.7386\n",
            "Epoch 2/100\n",
            "250/250 [==============================] - 0s 992us/step - loss: 0.4759 - accuracy: 0.7993\n",
            "Epoch 3/100\n",
            "250/250 [==============================] - 0s 952us/step - loss: 0.4373 - accuracy: 0.8095\n",
            "Epoch 4/100\n",
            "250/250 [==============================] - 0s 960us/step - loss: 0.4159 - accuracy: 0.8186\n",
            "Epoch 5/100\n",
            "250/250 [==============================] - 0s 995us/step - loss: 0.4018 - accuracy: 0.8269\n",
            "Epoch 6/100\n",
            "250/250 [==============================] - 0s 1ms/step - loss: 0.3909 - accuracy: 0.8335\n",
            "Epoch 7/100\n",
            "250/250 [==============================] - 0s 1ms/step - loss: 0.3815 - accuracy: 0.8396\n",
            "Epoch 8/100\n",
            "250/250 [==============================] - 0s 1ms/step - loss: 0.3742 - accuracy: 0.8421\n",
            "Epoch 9/100\n",
            "250/250 [==============================] - 0s 1ms/step - loss: 0.3681 - accuracy: 0.8475\n",
            "Epoch 10/100\n",
            "250/250 [==============================] - 0s 1ms/step - loss: 0.3632 - accuracy: 0.8515\n",
            "Epoch 11/100\n",
            "250/250 [==============================] - 0s 1ms/step - loss: 0.3600 - accuracy: 0.8531\n",
            "Epoch 12/100\n",
            "250/250 [==============================] - 0s 1ms/step - loss: 0.3570 - accuracy: 0.8551\n",
            "Epoch 13/100\n",
            "250/250 [==============================] - 0s 1ms/step - loss: 0.3544 - accuracy: 0.8569\n",
            "Epoch 14/100\n",
            "250/250 [==============================] - 0s 1ms/step - loss: 0.3521 - accuracy: 0.8556\n",
            "Epoch 15/100\n",
            "250/250 [==============================] - 0s 1ms/step - loss: 0.3508 - accuracy: 0.8584\n",
            "Epoch 16/100\n",
            "250/250 [==============================] - 0s 1ms/step - loss: 0.3500 - accuracy: 0.8581\n",
            "Epoch 17/100\n",
            "250/250 [==============================] - 0s 1ms/step - loss: 0.3484 - accuracy: 0.8591\n",
            "Epoch 18/100\n",
            "250/250 [==============================] - 0s 1ms/step - loss: 0.3483 - accuracy: 0.8585\n",
            "Epoch 19/100\n",
            "250/250 [==============================] - 0s 1ms/step - loss: 0.3470 - accuracy: 0.8584\n",
            "Epoch 20/100\n",
            "250/250 [==============================] - 0s 1ms/step - loss: 0.3464 - accuracy: 0.8584\n",
            "Epoch 21/100\n",
            "250/250 [==============================] - 0s 1ms/step - loss: 0.3460 - accuracy: 0.8615\n",
            "Epoch 22/100\n",
            "250/250 [==============================] - 0s 1ms/step - loss: 0.3455 - accuracy: 0.8587\n",
            "Epoch 23/100\n",
            "250/250 [==============================] - 0s 1ms/step - loss: 0.3447 - accuracy: 0.8594\n",
            "Epoch 24/100\n",
            "250/250 [==============================] - 0s 1ms/step - loss: 0.3440 - accuracy: 0.8604\n",
            "Epoch 25/100\n",
            "250/250 [==============================] - 0s 1ms/step - loss: 0.3441 - accuracy: 0.8614\n",
            "Epoch 26/100\n",
            "250/250 [==============================] - 0s 968us/step - loss: 0.3433 - accuracy: 0.8624\n",
            "Epoch 27/100\n",
            "250/250 [==============================] - 0s 935us/step - loss: 0.3432 - accuracy: 0.8637\n",
            "Epoch 28/100\n",
            "250/250 [==============================] - 0s 1ms/step - loss: 0.3431 - accuracy: 0.8625\n",
            "Epoch 29/100\n",
            "250/250 [==============================] - 0s 978us/step - loss: 0.3424 - accuracy: 0.8600\n",
            "Epoch 30/100\n",
            "250/250 [==============================] - 0s 1ms/step - loss: 0.3422 - accuracy: 0.8604\n",
            "Epoch 31/100\n",
            "250/250 [==============================] - 0s 955us/step - loss: 0.3419 - accuracy: 0.8622\n",
            "Epoch 32/100\n",
            "250/250 [==============================] - 0s 917us/step - loss: 0.3418 - accuracy: 0.8614\n",
            "Epoch 33/100\n",
            "250/250 [==============================] - 0s 1ms/step - loss: 0.3422 - accuracy: 0.8610\n",
            "Epoch 34/100\n",
            "250/250 [==============================] - 0s 947us/step - loss: 0.3415 - accuracy: 0.8621\n",
            "Epoch 35/100\n",
            "250/250 [==============================] - 0s 953us/step - loss: 0.3414 - accuracy: 0.8612\n",
            "Epoch 36/100\n",
            "250/250 [==============================] - 0s 943us/step - loss: 0.3412 - accuracy: 0.8633\n",
            "Epoch 37/100\n",
            "250/250 [==============================] - 0s 934us/step - loss: 0.3409 - accuracy: 0.8625\n",
            "Epoch 38/100\n",
            "250/250 [==============================] - 0s 1ms/step - loss: 0.3407 - accuracy: 0.8630\n",
            "Epoch 39/100\n",
            "250/250 [==============================] - 0s 981us/step - loss: 0.3407 - accuracy: 0.8612\n",
            "Epoch 40/100\n",
            "250/250 [==============================] - 0s 909us/step - loss: 0.3406 - accuracy: 0.8615\n",
            "Epoch 41/100\n",
            "250/250 [==============================] - 0s 950us/step - loss: 0.3402 - accuracy: 0.8616\n",
            "Epoch 42/100\n",
            "250/250 [==============================] - 0s 956us/step - loss: 0.3401 - accuracy: 0.8616\n",
            "Epoch 43/100\n",
            "250/250 [==============================] - 0s 957us/step - loss: 0.3400 - accuracy: 0.8605\n",
            "Epoch 44/100\n",
            "250/250 [==============================] - 0s 913us/step - loss: 0.3393 - accuracy: 0.8633\n",
            "Epoch 45/100\n",
            "250/250 [==============================] - 0s 909us/step - loss: 0.3393 - accuracy: 0.8624\n",
            "Epoch 46/100\n",
            "250/250 [==============================] - 0s 976us/step - loss: 0.3394 - accuracy: 0.8634\n",
            "Epoch 47/100\n",
            "250/250 [==============================] - 0s 992us/step - loss: 0.3391 - accuracy: 0.8629\n",
            "Epoch 48/100\n",
            "250/250 [==============================] - 0s 925us/step - loss: 0.3389 - accuracy: 0.8629\n",
            "Epoch 49/100\n",
            "250/250 [==============================] - 0s 987us/step - loss: 0.3391 - accuracy: 0.8618\n",
            "Epoch 50/100\n",
            "250/250 [==============================] - 0s 936us/step - loss: 0.3387 - accuracy: 0.8609\n",
            "Epoch 51/100\n",
            "250/250 [==============================] - 0s 1ms/step - loss: 0.3387 - accuracy: 0.8621\n",
            "Epoch 52/100\n",
            "250/250 [==============================] - 0s 943us/step - loss: 0.3384 - accuracy: 0.8619\n",
            "Epoch 53/100\n",
            "250/250 [==============================] - 0s 975us/step - loss: 0.3383 - accuracy: 0.8637\n",
            "Epoch 54/100\n",
            "250/250 [==============================] - 0s 960us/step - loss: 0.3388 - accuracy: 0.8654\n",
            "Epoch 55/100\n",
            "250/250 [==============================] - 0s 1ms/step - loss: 0.3384 - accuracy: 0.8630\n",
            "Epoch 56/100\n",
            "250/250 [==============================] - 0s 948us/step - loss: 0.3380 - accuracy: 0.8629\n",
            "Epoch 57/100\n",
            "250/250 [==============================] - 0s 958us/step - loss: 0.3380 - accuracy: 0.8633\n",
            "Epoch 58/100\n",
            "250/250 [==============================] - 0s 948us/step - loss: 0.3378 - accuracy: 0.8641\n",
            "Epoch 59/100\n",
            "250/250 [==============================] - 0s 990us/step - loss: 0.3374 - accuracy: 0.8640\n",
            "Epoch 60/100\n",
            "250/250 [==============================] - 0s 924us/step - loss: 0.3374 - accuracy: 0.8639\n",
            "Epoch 61/100\n",
            "250/250 [==============================] - 0s 935us/step - loss: 0.3377 - accuracy: 0.8629\n",
            "Epoch 62/100\n",
            "250/250 [==============================] - 0s 896us/step - loss: 0.3376 - accuracy: 0.8627\n",
            "Epoch 63/100\n",
            "250/250 [==============================] - 0s 995us/step - loss: 0.3372 - accuracy: 0.8627\n",
            "Epoch 64/100\n",
            "250/250 [==============================] - 0s 1ms/step - loss: 0.3376 - accuracy: 0.8635\n",
            "Epoch 65/100\n",
            "250/250 [==============================] - 0s 953us/step - loss: 0.3370 - accuracy: 0.8630\n",
            "Epoch 66/100\n",
            "250/250 [==============================] - 0s 956us/step - loss: 0.3373 - accuracy: 0.8609\n",
            "Epoch 67/100\n",
            "250/250 [==============================] - 0s 1ms/step - loss: 0.3367 - accuracy: 0.8626\n",
            "Epoch 68/100\n",
            "250/250 [==============================] - 0s 988us/step - loss: 0.3367 - accuracy: 0.8616\n",
            "Epoch 69/100\n",
            "250/250 [==============================] - 0s 971us/step - loss: 0.3367 - accuracy: 0.8619\n",
            "Epoch 70/100\n",
            "250/250 [==============================] - 0s 945us/step - loss: 0.3362 - accuracy: 0.8626\n",
            "Epoch 71/100\n",
            "250/250 [==============================] - 0s 1ms/step - loss: 0.3364 - accuracy: 0.8620\n",
            "Epoch 72/100\n",
            "250/250 [==============================] - 0s 970us/step - loss: 0.3366 - accuracy: 0.8639\n",
            "Epoch 73/100\n",
            "250/250 [==============================] - 0s 948us/step - loss: 0.3364 - accuracy: 0.8635\n",
            "Epoch 74/100\n",
            "250/250 [==============================] - 0s 964us/step - loss: 0.3362 - accuracy: 0.8620\n",
            "Epoch 75/100\n",
            "250/250 [==============================] - 0s 1ms/step - loss: 0.3364 - accuracy: 0.8641\n",
            "Epoch 76/100\n",
            "250/250 [==============================] - 0s 918us/step - loss: 0.3361 - accuracy: 0.8633\n",
            "Epoch 77/100\n",
            "250/250 [==============================] - 0s 966us/step - loss: 0.3363 - accuracy: 0.8629\n",
            "Epoch 78/100\n",
            "250/250 [==============================] - 0s 1ms/step - loss: 0.3365 - accuracy: 0.8627\n",
            "Epoch 79/100\n",
            "250/250 [==============================] - 0s 991us/step - loss: 0.3359 - accuracy: 0.8624\n",
            "Epoch 80/100\n",
            "250/250 [==============================] - 0s 923us/step - loss: 0.3358 - accuracy: 0.8636\n",
            "Epoch 81/100\n",
            "250/250 [==============================] - 0s 921us/step - loss: 0.3355 - accuracy: 0.8627\n",
            "Epoch 82/100\n",
            "250/250 [==============================] - 0s 960us/step - loss: 0.3359 - accuracy: 0.8635\n",
            "Epoch 83/100\n",
            "250/250 [==============================] - 0s 967us/step - loss: 0.3357 - accuracy: 0.8626\n",
            "Epoch 84/100\n",
            "250/250 [==============================] - 0s 916us/step - loss: 0.3360 - accuracy: 0.8622\n",
            "Epoch 85/100\n",
            "250/250 [==============================] - 0s 957us/step - loss: 0.3355 - accuracy: 0.8626\n",
            "Epoch 86/100\n",
            "250/250 [==============================] - 0s 982us/step - loss: 0.3356 - accuracy: 0.8627\n",
            "Epoch 87/100\n",
            "250/250 [==============================] - 0s 1ms/step - loss: 0.3355 - accuracy: 0.8622\n",
            "Epoch 88/100\n",
            "250/250 [==============================] - 0s 955us/step - loss: 0.3352 - accuracy: 0.8645\n",
            "Epoch 89/100\n",
            "250/250 [==============================] - 0s 995us/step - loss: 0.3359 - accuracy: 0.8624\n",
            "Epoch 90/100\n",
            "250/250 [==============================] - 0s 917us/step - loss: 0.3355 - accuracy: 0.8631\n",
            "Epoch 91/100\n",
            "250/250 [==============================] - 0s 966us/step - loss: 0.3353 - accuracy: 0.8641\n",
            "Epoch 92/100\n",
            "250/250 [==============================] - 0s 1ms/step - loss: 0.3352 - accuracy: 0.8629\n",
            "Epoch 93/100\n",
            "250/250 [==============================] - 0s 937us/step - loss: 0.3346 - accuracy: 0.8608\n",
            "Epoch 94/100\n",
            "250/250 [==============================] - 0s 893us/step - loss: 0.3351 - accuracy: 0.8635\n",
            "Epoch 95/100\n",
            "250/250 [==============================] - 0s 976us/step - loss: 0.3352 - accuracy: 0.8622\n",
            "Epoch 96/100\n",
            "250/250 [==============================] - 0s 951us/step - loss: 0.3355 - accuracy: 0.8618\n",
            "Epoch 97/100\n",
            "250/250 [==============================] - 0s 946us/step - loss: 0.3350 - accuracy: 0.8639\n",
            "Epoch 98/100\n",
            "250/250 [==============================] - 0s 953us/step - loss: 0.3351 - accuracy: 0.8636\n",
            "Epoch 99/100\n",
            "250/250 [==============================] - 0s 963us/step - loss: 0.3349 - accuracy: 0.8648\n",
            "Epoch 100/100\n",
            "250/250 [==============================] - 0s 1ms/step - loss: 0.3346 - accuracy: 0.8636\n"
          ],
          "name": "stdout"
        },
        {
          "output_type": "execute_result",
          "data": {
            "text/plain": [
              "<tensorflow.python.keras.callbacks.History at 0x7f35dc3bbc18>"
            ]
          },
          "metadata": {
            "tags": []
          },
          "execution_count": 32
        }
      ]
    },
    {
      "cell_type": "markdown",
      "metadata": {
        "id": "5Qlwlx-HUgDW"
      },
      "source": [
        "#Predicting The Result of a single Observation"
      ]
    },
    {
      "cell_type": "markdown",
      "metadata": {
        "id": "mv6GLkrwUr5k"
      },
      "source": [
        "We will use our ANN model to predict if the customer with the following informations will leave the bank:\n",
        "\n",
        "Geography: France\n",
        "\n",
        "Credit Score: 600\n",
        "\n",
        "Gender: Male\n",
        "\n",
        "Age: 40 years old\n",
        "\n",
        "Tenure: 3 years\n",
        "\n",
        "Balance: $ 60000\n",
        "\n",
        "Number of Products: 2\n",
        "\n",
        "Does this customer have a credit card? Yes\n",
        "\n",
        "Is this customer an Active Member: Yes\n",
        "\n",
        "Estimated Salary: $ 50000\n",
        "\n",
        "So, should we say goodbye to that customer?"
      ]
    },
    {
      "cell_type": "code",
      "metadata": {
        "id": "RjyqRSULU2pC",
        "outputId": "1edb9389-76b7-43b9-e9ca-abaf7b9334b3",
        "colab": {
          "base_uri": "https://localhost:8080/",
          "height": 35
        }
      },
      "source": [
        "print(ann.predict(sc.transform([[1, 0, 0, 600, 1, 40, 3, 60000, 2, 1, 1, 50000]])) > 0.5)"
      ],
      "execution_count": 33,
      "outputs": [
        {
          "output_type": "stream",
          "text": [
            "[[False]]\n"
          ],
          "name": "stdout"
        }
      ]
    },
    {
      "cell_type": "markdown",
      "metadata": {
        "id": "skSm5yswVXs3"
      },
      "source": [
        "Therefore, our **ANN model** predicts that this customer stays in the bank!\n",
        "\n",
        "**Important note 1**: Notice that the values of the features were all input in a double pair of square brackets. That's because the \"predict\" method always expects a 2D array as the format of its inputs. And putting our values into a double pair of square brackets makes the input exactly a 2D array.\n",
        "\n",
        "**Important note 2**: Notice also that the \"France\" country was not input as a string in the last column but as \"1, 0, 0\" in the first three columns. That's because of course the predict method expects the one-hot-encoded values of the state, and as we see in the first row of the matrix of features X, \"France\" was encoded as \"1, 0, 0\". And be careful to include these values in the first three columns, because the dummy variables are always created in the first columns."
      ]
    },
    {
      "cell_type": "markdown",
      "metadata": {
        "id": "X3fJWfznVjA2"
      },
      "source": [
        "#Predicting the test set results"
      ]
    },
    {
      "cell_type": "code",
      "metadata": {
        "id": "_ZTb_2wQVqdw",
        "outputId": "64b7ceab-e1e3-42b1-854d-657fc7715d05",
        "colab": {
          "base_uri": "https://localhost:8080/",
          "height": 139
        }
      },
      "source": [
        "Y_pred = ann.predict(X_test)\n",
        "Y_pred = (Y_pred > 0.5)\n",
        "print(np.concatenate((Y_pred.reshape(len(Y_pred),1), Y_test.reshape(len(Y_test),1)),1))"
      ],
      "execution_count": 34,
      "outputs": [
        {
          "output_type": "stream",
          "text": [
            "[[0 0]\n",
            " [0 1]\n",
            " [0 0]\n",
            " ...\n",
            " [0 0]\n",
            " [0 0]\n",
            " [0 0]]\n"
          ],
          "name": "stdout"
        }
      ]
    },
    {
      "cell_type": "markdown",
      "metadata": {
        "id": "C2cQw182Wtkd"
      },
      "source": [
        "#Making the Confusion Matrix"
      ]
    },
    {
      "cell_type": "code",
      "metadata": {
        "id": "qfhFviSjWyEw",
        "outputId": "b3b611a8-5d31-4eef-eb64-f2192a8871b2",
        "colab": {
          "base_uri": "https://localhost:8080/",
          "height": 69
        }
      },
      "source": [
        "from sklearn.metrics import confusion_matrix, accuracy_score\n",
        "cm = confusion_matrix(Y_test, Y_pred)\n",
        "print(cm)\n",
        "accuracy_score(Y_test, Y_pred)"
      ],
      "execution_count": 35,
      "outputs": [
        {
          "output_type": "stream",
          "text": [
            "[[1509   86]\n",
            " [ 192  213]]\n"
          ],
          "name": "stdout"
        },
        {
          "output_type": "execute_result",
          "data": {
            "text/plain": [
              "0.861"
            ]
          },
          "metadata": {
            "tags": []
          },
          "execution_count": 35
        }
      ]
    }
  ]
}